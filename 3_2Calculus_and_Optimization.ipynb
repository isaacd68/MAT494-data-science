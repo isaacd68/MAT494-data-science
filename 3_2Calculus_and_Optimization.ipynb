{
  "nbformat": 4,
  "nbformat_minor": 0,
  "metadata": {
    "colab": {
      "name": "3.2Calculus and Optimization.ipynb",
      "provenance": [],
      "collapsed_sections": [],
      "authorship_tag": "ABX9TyMi54u83+EQiYhcGFbd+6nd",
      "include_colab_link": true
    },
    "kernelspec": {
      "name": "python3",
      "display_name": "Python 3"
    },
    "language_info": {
      "name": "python"
    }
  },
  "cells": [
    {
      "cell_type": "markdown",
      "metadata": {
        "id": "view-in-github",
        "colab_type": "text"
      },
      "source": [
        "<a href=\"https://colab.research.google.com/github/isaacd68/MAT494-data-science/blob/main/3_2Calculus_and_Optimization.ipynb\" target=\"_parent\"><img src=\"https://colab.research.google.com/assets/colab-badge.svg\" alt=\"Open In Colab\"/></a>"
      ]
    },
    {
      "cell_type": "markdown",
      "metadata": {
        "id": "q2_lTkYDeXKV"
      },
      "source": [
        "# **Limits and Continuity**"
      ]
    },
    {
      "cell_type": "markdown",
      "metadata": {
        "id": "oEx9a81qewuj"
      },
      "source": [
        "**Limits**"
      ]
    },
    {
      "cell_type": "code",
      "metadata": {
        "colab": {
          "base_uri": "https://localhost:8080/"
        },
        "id": "y0SC5f2Yd1xQ",
        "outputId": "8bb7dd4c-4e49-40a4-faf7-117f0e8de861"
      },
      "source": [
        "# import sympy\n",
        "from sympy import *\n",
        " \n",
        "x = symbols('x')\n",
        "expr = sin(x)/x;\n",
        "   \n",
        "print(\"Expression : {}\".format(expr))\n",
        "     \n",
        "# Use sympy.limit() method\n",
        "limit_expr = limit(expr, x, 0) \n",
        "     \n",
        "print(\"Limit of the expression tends to 0 : {}\".format(limit_expr))"
      ],
      "execution_count": null,
      "outputs": [
        {
          "output_type": "stream",
          "name": "stdout",
          "text": [
            "Expression : sin(x)/x\n",
            "Limit of the expression tends to 0 : 1\n"
          ]
        }
      ]
    },
    {
      "cell_type": "code",
      "metadata": {
        "colab": {
          "base_uri": "https://localhost:8080/"
        },
        "id": "GgBA3wzofEDU",
        "outputId": "31659b0b-297a-4876-99cb-8c0f6bccf1b2"
      },
      "source": [
        "# import sympy\n",
        "from sympy import *\n",
        " \n",
        "x = symbols('x')\n",
        "expr = sin(3 * x)/x;\n",
        "   \n",
        "print(\"Expression : {}\".format(expr))\n",
        "     \n",
        "# Use sympy.limit() method\n",
        "limit_expr = limit(expr, x, 0) \n",
        "     \n",
        "print(\"Limit of the expression tends to 0 : {}\".format(limit_expr)) "
      ],
      "execution_count": null,
      "outputs": [
        {
          "output_type": "stream",
          "name": "stdout",
          "text": [
            "Expression : sin(3*x)/x\n",
            "Limit of the expression tends to 0 : 3\n"
          ]
        }
      ]
    },
    {
      "cell_type": "markdown",
      "metadata": {
        "id": "HG6sImfJgBKg"
      },
      "source": [
        "**Derivatives**"
      ]
    },
    {
      "cell_type": "code",
      "metadata": {
        "colab": {
          "base_uri": "https://localhost:8080/"
        },
        "id": "4rh0Gpf2gEwb",
        "outputId": "37977047-11ee-4a1b-c633-227e2bccb203"
      },
      "source": [
        "pip install sympy"
      ],
      "execution_count": null,
      "outputs": [
        {
          "output_type": "stream",
          "name": "stdout",
          "text": [
            "Requirement already satisfied: sympy in /usr/local/lib/python3.7/dist-packages (1.7.1)\n",
            "Requirement already satisfied: mpmath>=0.19 in /usr/local/lib/python3.7/dist-packages (from sympy) (1.2.1)\n"
          ]
        }
      ]
    },
    {
      "cell_type": "code",
      "metadata": {
        "colab": {
          "base_uri": "https://localhost:8080/",
          "height": 39
        },
        "id": "I8IjYi2igfoe",
        "outputId": "c74f23f6-b554-4042-b1c2-779fa49b6fc2"
      },
      "source": [
        "#Importing sympy\n",
        "\n",
        "from sympy import *\n",
        "\n",
        "# create a \"symbol\" called x\n",
        "x = Symbol('x')\n",
        "\n",
        "#Define function\n",
        "f = x**2\n",
        "\n",
        "#Calculating Derivative\n",
        "derivative_f = f.diff(x)\n",
        "\n",
        "derivative_f"
      ],
      "execution_count": null,
      "outputs": [
        {
          "output_type": "execute_result",
          "data": {
            "text/latex": "$\\displaystyle 2 x$",
            "text/plain": [
              "2*x"
            ]
          },
          "metadata": {},
          "execution_count": 8
        }
      ]
    },
    {
      "cell_type": "code",
      "metadata": {
        "colab": {
          "base_uri": "https://localhost:8080/"
        },
        "id": "Y-pemqnMgkyT",
        "outputId": "7e923d91-78d7-4a0b-aa7b-d64d7bf7f3de"
      },
      "source": [
        "from sympy import *\n",
        "\n",
        "# create a \"symbol\" called x\n",
        "x = Symbol('x')\n",
        "\n",
        "#Define function\n",
        "f = x**2\n",
        "\n",
        "f1 = lambdify(x, f)\n",
        "#passing x=2 to the function\n",
        "f1(2)"
      ],
      "execution_count": null,
      "outputs": [
        {
          "output_type": "execute_result",
          "data": {
            "text/plain": [
              "4"
            ]
          },
          "metadata": {},
          "execution_count": 9
        }
      ]
    },
    {
      "cell_type": "markdown",
      "metadata": {
        "id": "mhts6Reigshp"
      },
      "source": [
        "*Power Rule*"
      ]
    },
    {
      "cell_type": "code",
      "metadata": {
        "colab": {
          "base_uri": "https://localhost:8080/",
          "height": 39
        },
        "id": "94bk6vycgrgf",
        "outputId": "3a80df7c-8382-427a-b2be-55a202fbfac9"
      },
      "source": [
        "import sympy as sym\n",
        " \n",
        "#Power rule\n",
        "x = sym.Symbol('x')\n",
        "f = x**5\n",
        "derivative_f = f.diff(x)\n",
        "derivative_f"
      ],
      "execution_count": null,
      "outputs": [
        {
          "output_type": "execute_result",
          "data": {
            "text/latex": "$\\displaystyle 5 x^{4}$",
            "text/plain": [
              "5*x**4"
            ]
          },
          "metadata": {},
          "execution_count": 10
        }
      ]
    },
    {
      "cell_type": "markdown",
      "metadata": {
        "id": "BdoUAmwIg3c2"
      },
      "source": [
        "*Product Rule*"
      ]
    },
    {
      "cell_type": "markdown",
      "metadata": {
        "id": "caIQV6YfhAVx"
      },
      "source": [
        "(uv)′ = u′v + uv′"
      ]
    },
    {
      "cell_type": "code",
      "metadata": {
        "colab": {
          "base_uri": "https://localhost:8080/",
          "height": 39
        },
        "id": "IlW0W-gJg6_W",
        "outputId": "d04fed83-4c40-4631-af51-9bb859418f2a"
      },
      "source": [
        "import sympy as sym\n",
        "#Product Rule\n",
        "x = sym.Symbol('x')\n",
        "f = sym.exp(x)*sym.cos(x)\n",
        "derivative_f = f.diff(x)\n",
        "derivative_f"
      ],
      "execution_count": null,
      "outputs": [
        {
          "output_type": "execute_result",
          "data": {
            "text/latex": "$\\displaystyle - e^{x} \\sin{\\left(x \\right)} + e^{x} \\cos{\\left(x \\right)}$",
            "text/plain": [
              "-exp(x)*sin(x) + exp(x)*cos(x)"
            ]
          },
          "metadata": {},
          "execution_count": 11
        }
      ]
    },
    {
      "cell_type": "markdown",
      "metadata": {
        "id": "LKY0L-KFhEqL"
      },
      "source": [
        "*Chain Rule*"
      ]
    },
    {
      "cell_type": "code",
      "metadata": {
        "colab": {
          "base_uri": "https://localhost:8080/",
          "height": 39
        },
        "id": "UfS5FxsEhOdv",
        "outputId": "5f53cdd0-823a-4bec-b636-d3327d11b189"
      },
      "source": [
        "import sympy as sym\n",
        "#Chain Rule\n",
        "x = sym.Symbol('x')\n",
        "f = sym.cos(x**2)\n",
        "derivative_f = f.diff(x)\n",
        "derivative_f"
      ],
      "execution_count": null,
      "outputs": [
        {
          "output_type": "execute_result",
          "data": {
            "text/latex": "$\\displaystyle - 2 x \\sin{\\left(x^{2} \\right)}$",
            "text/plain": [
              "-2*x*sin(x**2)"
            ]
          },
          "metadata": {},
          "execution_count": 12
        }
      ]
    },
    {
      "cell_type": "markdown",
      "metadata": {
        "id": "tEEKHWWRh2J_"
      },
      "source": [
        "*Multivariable Functions*"
      ]
    },
    {
      "cell_type": "markdown",
      "metadata": {
        "id": "F_1UQE_OiQ0I"
      },
      "source": [
        "ex: F(x,y) = $x^4$ + $xy^4$"
      ]
    },
    {
      "cell_type": "code",
      "metadata": {
        "colab": {
          "base_uri": "https://localhost:8080/",
          "height": 39
        },
        "id": "er6Fr1NDh7wz",
        "outputId": "50716df5-2a18-4739-d192-17d0ea8d87e9"
      },
      "source": [
        "import sympy as sym\n",
        " \n",
        "#Derivatives of multivariable function\n",
        " \n",
        "x , y = sym.symbols('x y')\n",
        "f = x**4+x*y**4\n",
        " \n",
        "#Differentiating partially w.r.t x\n",
        "derivative_f = f.diff(x)\n",
        "derivative_f"
      ],
      "execution_count": null,
      "outputs": [
        {
          "output_type": "execute_result",
          "data": {
            "text/latex": "$\\displaystyle 4 x^{3} + y^{4}$",
            "text/plain": [
              "4*x**3 + y**4"
            ]
          },
          "metadata": {},
          "execution_count": 13
        }
      ]
    },
    {
      "cell_type": "code",
      "metadata": {
        "colab": {
          "base_uri": "https://localhost:8080/",
          "height": 39
        },
        "id": "DW2-h3TjiDP7",
        "outputId": "cdc4bd00-7630-441a-b038-d0fa2ea56c17"
      },
      "source": [
        "import sympy as sym\n",
        " \n",
        "#Derivatives of multivariable function\n",
        " \n",
        "x , y = sym.symbols('x y')\n",
        "f = x**4+x*y**4\n",
        " \n",
        "#Differentiating partially w.r.t y\n",
        "derivative_f = f.diff(y)\n",
        "derivative_f"
      ],
      "execution_count": null,
      "outputs": [
        {
          "output_type": "execute_result",
          "data": {
            "text/latex": "$\\displaystyle 4 x y^{3}$",
            "text/plain": [
              "4*x*y**3"
            ]
          },
          "metadata": {},
          "execution_count": 14
        }
      ]
    },
    {
      "cell_type": "code",
      "metadata": {
        "colab": {
          "base_uri": "https://localhost:8080/",
          "height": 39
        },
        "id": "HTO2XI7yiD1a",
        "outputId": "5c4482dd-163f-4b35-97f4-5cae218aee7e"
      },
      "source": [
        "import sympy as sym\n",
        " \n",
        "#Derivatives of multivariable function\n",
        " \n",
        "x , y = sym.symbols('x y')\n",
        "f = x**4+x*y**4\n",
        " \n",
        "#Differentiating partially w.r.t x and y\n",
        "derivative_f = f.diff(x,y)\n",
        "derivative_f"
      ],
      "execution_count": null,
      "outputs": [
        {
          "output_type": "execute_result",
          "data": {
            "text/latex": "$\\displaystyle 4 y^{3}$",
            "text/plain": [
              "4*y**3"
            ]
          },
          "metadata": {},
          "execution_count": 15
        }
      ]
    },
    {
      "cell_type": "markdown",
      "metadata": {
        "id": "Ot58ZA3Ji220"
      },
      "source": [
        "*Partial Derivative*"
      ]
    },
    {
      "cell_type": "code",
      "metadata": {
        "colab": {
          "base_uri": "https://localhost:8080/",
          "height": 39
        },
        "id": "6Sqjo9oJiHs1",
        "outputId": "78b62797-f3b0-4119-81b6-a2dd9b33e9b8"
      },
      "source": [
        "from sympy import Symbol, Derivative\n",
        "\n",
        "x= Symbol('x')\n",
        "\n",
        "y= Symbol('y')\n",
        "\n",
        "function= x**2 * y**3 + 12*y**4\n",
        "\n",
        "partialderiv= Derivative(function, x)\n",
        "partialderiv.doit()\n"
      ],
      "execution_count": null,
      "outputs": [
        {
          "output_type": "execute_result",
          "data": {
            "text/latex": "$\\displaystyle 2 x y^{3}$",
            "text/plain": [
              "2*x*y**3"
            ]
          },
          "metadata": {},
          "execution_count": 16
        }
      ]
    }
  ]
}