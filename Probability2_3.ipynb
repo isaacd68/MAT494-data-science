{
  "nbformat": 4,
  "nbformat_minor": 0,
  "metadata": {
    "colab": {
      "name": "Probability2.3.ipynb",
      "provenance": [],
      "authorship_tag": "ABX9TyN3qymDyo42AQzmo3RdQX3G",
      "include_colab_link": true
    },
    "kernelspec": {
      "name": "python3",
      "display_name": "Python 3"
    },
    "language_info": {
      "name": "python"
    }
  },
  "cells": [
    {
      "cell_type": "markdown",
      "metadata": {
        "id": "view-in-github",
        "colab_type": "text"
      },
      "source": [
        "<a href=\"https://colab.research.google.com/github/isaacd68/MAT494-data-science/blob/main/Probability2_3.ipynb\" target=\"_parent\"><img src=\"https://colab.research.google.com/assets/colab-badge.svg\" alt=\"Open In Colab\"/></a>"
      ]
    },
    {
      "cell_type": "markdown",
      "metadata": {
        "id": "RU3eLuaBZVTi"
      },
      "source": [
        "# ***Conditional Probability***"
      ]
    },
    {
      "cell_type": "markdown",
      "metadata": {
        "id": "GtavRzELZjY8"
      },
      "source": [
        "First, we establish a random function that assigns a random.choice method to assign gender such that each child (i.e.,Kid class instance) is equally likely to be a boy or a girl. This is the first assumption of our scenario. \n",
        "\n",
        "Next we create variables representing joint distributions; one variable for both children being girls (both_girls), one variable for only the older child being a girl (older_girl), and one for at least one child being a girl (either_girl).\n",
        "First the probability of any one child being a girl is (1/2), consistent with our assumption, we’d expect:"
      ]
    },
    {
      "cell_type": "code",
      "metadata": {
        "colab": {
          "base_uri": "https://localhost:8080/"
        },
        "id": "fqMJIq6scxbI",
        "outputId": "061b2607-b015-46c1-ee12-a4bf98b01335"
      },
      "source": [
        "import enum, random\n",
        "class Kid(enum.Enum):\n",
        "    BOY = 0\n",
        "    GIRL = 1\n",
        "def random_kid() -> Kid:\n",
        "    return random.choice([Kid.BOY, Kid.GIRL])\n",
        "both_girls = 0\n",
        "older_girl = 0\n",
        "either_girl = 0\n",
        "random.seed(0)\n",
        "for _ in range(10000):\n",
        "    younger = random_kid()\n",
        "    older = random_kid()\n",
        "    if older == Kid.GIRL:\n",
        "        older_girl += 1\n",
        "    if older == Kid.GIRL and younger == Kid.GIRL:\n",
        "        both_girls += 1\n",
        "    if older == Kid.GIRL or younger == Kid.GIRL:\n",
        "        either_girl += 1\n",
        "print(\"P(both | older):\", both_girls / older_girl) \n",
        "print(\"P(both | either):\", both_girls / either_girl)"
      ],
      "execution_count": 19,
      "outputs": [
        {
          "output_type": "stream",
          "name": "stdout",
          "text": [
            "P(both | older): 0.5007089325501317\n",
            "P(both | either): 0.3311897106109325\n"
          ]
        }
      ]
    },
    {
      "cell_type": "markdown",
      "metadata": {
        "id": "lUGgJVUqZ8u1"
      },
      "source": [
        "# ***Correlation and Dependence***"
      ]
    },
    {
      "cell_type": "markdown",
      "metadata": {
        "id": "5NcTxVFzaGak"
      },
      "source": [
        "**Test Dataset**"
      ]
    },
    {
      "cell_type": "code",
      "metadata": {
        "colab": {
          "base_uri": "https://localhost:8080/",
          "height": 296
        },
        "id": "vaTGmvtNdTCj",
        "outputId": "29a91cf6-d46e-4d38-d1bd-3a778c7e3628"
      },
      "source": [
        "from numpy import mean\n",
        "from numpy import std\n",
        "from numpy.random import randn\n",
        "from numpy.random import seed\n",
        "from matplotlib import pyplot\n",
        "# seed random number generator\n",
        "seed(1)\n",
        "# prepare data\n",
        "data1 = 20 * randn(1000) + 100\n",
        "data2 = data1 + (10 * randn(1000) + 50)\n",
        "# summarize\n",
        "print('data1: mean=%.3f stdv=%.3f' % (mean(data1), std(data1)))\n",
        "print('data2: mean=%.3f stdv=%.3f' % (mean(data2), std(data2)))\n",
        "# plot\n",
        "pyplot.scatter(data1, data2)\n",
        "pyplot.show()"
      ],
      "execution_count": 7,
      "outputs": [
        {
          "output_type": "stream",
          "name": "stdout",
          "text": [
            "data1: mean=100.776 stdv=19.620\n",
            "data2: mean=151.050 stdv=22.358\n"
          ]
        },
        {
          "output_type": "display_data",
          "data": {
            "image/png": "[encoded data removed]",
            "text/plain": [
              "<Figure size 432x288 with 1 Axes>"
            ]
          },
          "metadata": {
            "needs_background": "light"
          }
        }
      ]
    },
    {
      "cell_type": "markdown",
      "metadata": {
        "id": "dd_e5T28aT1F"
      },
      "source": [
        "**Covariance**"
      ]
    },
    {
      "cell_type": "markdown",
      "metadata": {
        "id": "as3jNFdAalXQ"
      },
      "source": [
        "Variables can be related by a linear relationship. This is a relationship that is consistently additive across the two data samples.\n",
        "\n",
        "This relationship can be summarized between two variables, called the covariance. It is calculated as the average of the product between the values from each sample, where the values haven been centered (had their mean subtracted)."
      ]
    },
    {
      "cell_type": "code",
      "metadata": {
        "id": "DJlrN79WdTat",
        "colab": {
          "base_uri": "https://localhost:8080/"
        },
        "outputId": "b936a4a0-2ff7-4a30-c16c-7c45c97f14b5"
      },
      "source": [
        "\n",
        "# calculate the covariance between two variables\n",
        "from numpy.random import randn\n",
        "from numpy.random import seed\n",
        "from numpy import cov\n",
        "# seed random number generator\n",
        "seed(1)\n",
        "# prepare data\n",
        "data1 = 20 * randn(1000) + 100\n",
        "data2 = data1 + (10 * randn(1000) + 50)\n",
        "# calculate covariance matrix\n",
        "covariance = cov(data1, data2)\n",
        "print(covariance)\n",
        "# calculate the covariance between two variables\n",
        "from numpy.random import randn\n",
        "from numpy.random import seed\n",
        "from numpy import cov\n",
        "# seed random number generator\n",
        "seed(1)\n",
        "# prepare data\n",
        "data1 = 20 * randn(1000) + 100\n",
        "data2 = data1 + (10 * randn(1000) + 50)\n",
        "# calculate covariance matrix\n",
        "covariance = cov(data1, data2)\n",
        "print(covariance)"
      ],
      "execution_count": 10,
      "outputs": [
        {
          "output_type": "stream",
          "name": "stdout",
          "text": [
            "[[385.33297729 389.7545618 ]\n",
            " [389.7545618  500.38006058]]\n",
            "[[385.33297729 389.7545618 ]\n",
            " [389.7545618  500.38006058]]\n"
          ]
        }
      ]
    },
    {
      "cell_type": "markdown",
      "metadata": {
        "id": "SNr9KZhRaoul"
      },
      "source": [
        "***Pearson’s Correlation***"
      ]
    },
    {
      "cell_type": "markdown",
      "metadata": {
        "id": "lY3PrZG5avii"
      },
      "source": [
        "The Pearson correlation coefficient (named for Karl Pearson) can be used to summarize the strength of the linear relationship between two data samples.\n",
        "\n",
        "The Pearson’s correlation coefficient is calculated as the covariance of the two variables divided by the product of the standard deviation of each data sample. It is the normalization of the covariance between the two variables to give an interpretable score."
      ]
    },
    {
      "cell_type": "code",
      "metadata": {
        "id": "yZYq153QdTku",
        "colab": {
          "base_uri": "https://localhost:8080/"
        },
        "outputId": "6aa59333-d527-4c76-9434-23f1ff0d96ed"
      },
      "source": [
        "\n",
        "# calculate the Pearson's correlation between two variables\n",
        "from numpy.random import randn\n",
        "from numpy.random import seed\n",
        "from scipy.stats import pearsonr\n",
        "# seed random number generator\n",
        "seed(1)\n",
        "# prepare data\n",
        "data1 = 20 * randn(1000) + 100\n",
        "data2 = data1 + (10 * randn(1000) + 50)\n",
        "# calculate Pearson's correlation\n",
        "corr, _ = pearsonr(data1, data2)\n",
        "print('Pearsons correlation: %.3f' % corr)\n",
        "# calculate the Pearson's correlation between two variables\n",
        "from numpy.random import randn\n",
        "from numpy.random import seed\n",
        "from scipy.stats import pearsonr\n",
        "# seed random number generator\n",
        "seed(1)\n",
        "# prepare data\n",
        "data1 = 20 * randn(1000) + 100\n",
        "data2 = data1 + (10 * randn(1000) + 50)\n",
        "# calculate Pearson's correlation\n",
        "corr, _ = pearsonr(data1, data2)\n",
        "print('Pearsons correlation: %.3f' % corr)"
      ],
      "execution_count": 11,
      "outputs": [
        {
          "output_type": "stream",
          "name": "stdout",
          "text": [
            "Pearsons correlation: 0.888\n",
            "Pearsons correlation: 0.888\n"
          ]
        }
      ]
    },
    {
      "cell_type": "markdown",
      "metadata": {
        "id": "CYKoJYXVcOd9"
      },
      "source": [
        "# ***Random Samples in Python***"
      ]
    },
    {
      "cell_type": "code",
      "metadata": {
        "colab": {
          "base_uri": "https://localhost:8080/"
        },
        "id": "DvNHL4ChbYFR",
        "outputId": "60e6dc81-b974-4365-f573-474239bd0d05"
      },
      "source": [
        "# Python3 program to demonstrate\n",
        "# the use of sample() function .\n",
        "# import random \n",
        "from random import sample\n",
        "  \n",
        "# Prints list of random items of given length\n",
        "list1 = [1, 2, 3, 4, 5] \n",
        "  \n",
        "print(sample(list1,3))"
      ],
      "execution_count": 12,
      "outputs": [
        {
          "output_type": "stream",
          "name": "stdout",
          "text": [
            "[3, 1, 2]\n"
          ]
        }
      ]
    },
    {
      "cell_type": "code",
      "metadata": {
        "colab": {
          "base_uri": "https://localhost:8080/"
        },
        "id": "JRFw7gmtbnmb",
        "outputId": "673fd885-e61d-42bc-9010-d6a7972d007a"
      },
      "source": [
        "# Python3 program to demonstrate\n",
        "# the use of sample() function .\n",
        "  \n",
        "# import random \n",
        "import random\n",
        "  \n",
        "  \n",
        "# Prints list of random items of\n",
        "# length 3 from the given list.\n",
        "list1 = [1, 2, 3, 4, 5, 6] \n",
        "print(\"With list:\", random.sample(list1, 3))\n",
        "  \n",
        "# Prints list of random items of\n",
        "# length 4 from the given string. \n",
        "string = \"GeeksforGeeks\"\n",
        "print(\"With string:\", random.sample(string, 4))\n",
        "  \n",
        "# Prints list of random items of\n",
        "# length 4 from the given tuple.\n",
        "tuple1 = (\"ankit\", \"geeks\", \"computer\", \"science\",\n",
        "                   \"portal\", \"scientist\", \"btech\")\n",
        "print(\"With tuple:\", random.sample(tuple1, 4))\n",
        "  \n",
        "  \n",
        "# Prints list of random items of\n",
        "# length 3 from the given set.\n",
        "set1 = {\"a\", \"b\", \"c\", \"d\", \"e\"}\n",
        "print(\"With set:\", random.sample(set1, 3))"
      ],
      "execution_count": 18,
      "outputs": [
        {
          "output_type": "stream",
          "name": "stdout",
          "text": [
            "With list: [6, 3, 1]\n",
            "With string: ['s', 'G', 'G', 'f']\n",
            "With tuple: ['btech', 'science', 'geeks', 'scientist']\n",
            "With set: ['a', 'e', 'd']\n"
          ]
        }
      ]
    },
    {
      "cell_type": "code",
      "metadata": {
        "colab": {
          "base_uri": "https://localhost:8080/"
        },
        "id": "MeSAMaSFbx7R",
        "outputId": "f978a062-3e66-40bf-ac77-a683ff8c5812"
      },
      "source": [
        "# Python3 program to demonstrate the\n",
        "# error of sample() function.\n",
        "import random\n",
        "  \n",
        "list1 = [1, 2, 3, 4, 5] \n",
        "   \n",
        "# exception raised\n",
        "print(random.sample(list1, 5)) "
      ],
      "execution_count": 17,
      "outputs": [
        {
          "output_type": "stream",
          "name": "stdout",
          "text": [
            "[5, 3, 2, 4, 1]\n"
          ]
        }
      ]
    }
  ]
}